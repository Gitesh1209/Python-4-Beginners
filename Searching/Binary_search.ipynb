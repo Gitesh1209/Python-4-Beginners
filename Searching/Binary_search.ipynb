{
 "cells": [
  {
   "cell_type": "code",
   "execution_count": 10,
   "metadata": {},
   "outputs": [
    {
     "name": "stdout",
     "output_type": "stream",
     "text": [
      "Element is present at index :  11\n"
     ]
    }
   ],
   "source": [
    "def binary_search_program(array1, x): \n",
    "    a = 0\n",
    "    b = len(arr) - 1\n",
    "    c = 0\n",
    "  \n",
    "    while a <= b: \n",
    "        c = (b + a) // 2\n",
    "        if array1[c] < x: \n",
    "            a = c + 1\n",
    "        elif array1[c] > x: \n",
    "            b = c - 1       \n",
    "        else: \n",
    "            return c \n",
    "    return -1\n",
    "  \n",
    "  \n",
    "array1 = [2,3,6,4,45,94,7,9,5,69,89,33,44,67,45] \n",
    "x = 33\n",
    "\n",
    "result = binary_search_program(array1, x) \n",
    "if result != -1: \n",
    "    print(\"Element is present at index : \", str(result)) \n",
    "else: \n",
    "    print(\"Element is not present in array\")"
   ]
  },
  {
   "cell_type": "code",
   "execution_count": null,
   "metadata": {},
   "outputs": [],
   "source": []
  }
 ],
 "metadata": {
  "kernelspec": {
   "display_name": "Python 3",
   "language": "python",
   "name": "python3"
  },
  "language_info": {
   "codemirror_mode": {
    "name": "ipython",
    "version": 3
   },
   "file_extension": ".py",
   "mimetype": "text/x-python",
   "name": "python",
   "nbconvert_exporter": "python",
   "pygments_lexer": "ipython3",
   "version": "3.7.6"
  }
 },
 "nbformat": 4,
 "nbformat_minor": 4
}
